{
 "cells": [
  {
   "cell_type": "code",
   "execution_count": 1,
   "id": "baf95001",
   "metadata": {},
   "outputs": [],
   "source": [
    "import pandas as pd\n"
   ]
  },
  {
   "cell_type": "code",
   "execution_count": 3,
   "id": "b72509fc",
   "metadata": {},
   "outputs": [
    {
     "name": "stdout",
     "output_type": "stream",
     "text": [
      "   R0000100  PCS2000 CESD2000Total CESDTotal2000cutpt  MCS2000  RelAt2000cat6  \\\n",
      "0      2833      NaN             0                  2      NaN              2   \n",
      "1      3188      NaN                                       NaN              4   \n",
      "2      5744      NaN                                       NaN              5   \n",
      "3      6260      NaN                                       NaN              1   \n",
      "4      8109      NaN             8                  1      NaN              2   \n",
      "\n",
      "  RelAt2000cat2  Gender  Race3 Marital2000c5  Education2000  Education2000c4  \\\n",
      "0             1       2      3             4             12                3   \n",
      "1             1       1      2             5             12                3   \n",
      "2             1       1      1             4             14                2   \n",
      "3             1       2      2             4             13                2   \n",
      "4             1       1      1             2             11                3   \n",
      "\n",
      "   NumberBioStepAdoptChildHH2000  BioChildHH2000c2  \\\n",
      "0                              3                 1   \n",
      "1                              1                 1   \n",
      "2                              3                 1   \n",
      "3                              1                 1   \n",
      "4                              3                 1   \n",
      "\n",
      "  WorkTimeHrsperWkPastCalYr2000cat4  UnemplyWksPastCal2000c  \\\n",
      "0                                 1                       4   \n",
      "1                                                         4   \n",
      "2                                 2                       4   \n",
      "3                                 2                       4   \n",
      "4                                 4                       4   \n",
      "\n",
      "   UnemployedWksPastCal2000cont  IncomePercNetFam2000c  PovertyStatus2000c2  \n",
      "0                             0                      1                    1  \n",
      "1                             0                      1                    1  \n",
      "2                             0                      1                    1  \n",
      "3                             0                      1                    1  \n",
      "4                             0                      1                    1  \n"
     ]
    },
    {
     "data": {
      "text/plain": [
       "R0000100                               int64\n",
       "PCS2000                              float64\n",
       "CESD2000Total                         object\n",
       "CESDTotal2000cutpt                    object\n",
       "MCS2000                              float64\n",
       "RelAt2000cat6                          int64\n",
       "RelAt2000cat2                         object\n",
       "Gender                                 int64\n",
       "Race3                                  int64\n",
       "Marital2000c5                         object\n",
       "Education2000                          int64\n",
       "Education2000c4                        int64\n",
       "NumberBioStepAdoptChildHH2000          int64\n",
       "BioChildHH2000c2                       int64\n",
       "WorkTimeHrsperWkPastCalYr2000cat4     object\n",
       "UnemplyWksPastCal2000c                 int64\n",
       "UnemployedWksPastCal2000cont           int64\n",
       "IncomePercNetFam2000c                  int64\n",
       "PovertyStatus2000c2                    int64\n",
       "dtype: object"
      ]
     },
     "execution_count": 3,
     "metadata": {},
     "output_type": "execute_result"
    }
   ],
   "source": [
    "df = pd.read_csv(\"NLSY.csv\")\n",
    "print(df.head())\n",
    "df.dtypes"
   ]
  },
  {
   "cell_type": "code",
   "execution_count": 6,
   "id": "b15fa1f1",
   "metadata": {},
   "outputs": [
    {
     "name": "stdout",
     "output_type": "stream",
     "text": [
      "2970\n",
      "16944\n",
      "---------\n",
      "2362\n",
      "16944\n",
      "---------\n",
      "2450\n",
      "16944\n",
      "---------\n",
      "2442\n",
      "16944\n"
     ]
    }
   ],
   "source": [
    "df[\"CESD2000Total_cat\"] = df[\"CESD2000Total\"].astype(\"category\")\n",
    "\n",
    "df[\"RelAt2000cat2_cat\"] = df[\"RelAt2000cat2\"].astype(\"category\")\n",
    "df[\"Marital2000c5_cat\"] = df[\"Marital2000c5\"].astype(\"category\")\n",
    "df[\"WorkTimeHrsperWkPastCalYr2000cat4_cat\"] = df[\"WorkTimeHrsperWkPastCalYr2000cat4\"].astype(\"category\")\n",
    "\n",
    "print(df[\"CESD2000Total_cat\"].memory_usage())\n",
    "print(df[\"CESD2000Total\"].memory_usage())\n",
    "print(\"---------\")\n",
    "print(df[\"RelAt2000cat2_cat\"].memory_usage())\n",
    "print(df[\"RelAt2000cat2\"].memory_usage())\n",
    "print(\"---------\")\n",
    "print(df[\"Marital2000c5_cat\"].memory_usage())\n",
    "print(df[\"Marital2000c5\"].memory_usage())\n",
    "print(\"---------\")\n",
    "\n",
    "print(df[\"WorkTimeHrsperWkPastCalYr2000cat4_cat\"].memory_usage())\n",
    "print(df[\"WorkTimeHrsperWkPastCalYr2000cat4\"].memory_usage())\n"
   ]
  },
  {
   "cell_type": "code",
   "execution_count": null,
   "id": "4cacd29b",
   "metadata": {},
   "outputs": [],
   "source": [
    "#fastapi reads this file into windows\n"
   ]
  }
 ],
 "metadata": {
  "kernelspec": {
   "display_name": "Python 3 (ipykernel)",
   "language": "python",
   "name": "python3"
  },
  "language_info": {
   "codemirror_mode": {
    "name": "ipython",
    "version": 3
   },
   "file_extension": ".py",
   "mimetype": "text/x-python",
   "name": "python",
   "nbconvert_exporter": "python",
   "pygments_lexer": "ipython3",
   "version": "3.8.16"
  }
 },
 "nbformat": 4,
 "nbformat_minor": 5
}
